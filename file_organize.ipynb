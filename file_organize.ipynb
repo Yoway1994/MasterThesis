{
 "cells": [
  {
   "cell_type": "code",
   "execution_count": 5,
   "metadata": {},
   "outputs": [],
   "source": [
    "import os\n",
    "import re\n",
    "import shutil\n",
    "\n",
    "copy_path = r'D:\\desktop\\交接光碟\\01. weekly report'\n",
    "for path, dirs, file in os.walk('D:/desktop/NTU/LAB report/Report/progress report'):\n",
    "    date = re.findall('\\d+', path)\n",
    "    for ppt in file:\n",
    "        if ppt.find('Yu-Wei Hsu') > 0:\n",
    "            newname = date[0] + '_Progress report_Yu-Wei Hsu.pptx'\n",
    "            old_file = os.path.join(path, ppt)\n",
    "            new_file = os.path.join(path, newname)\n",
    "            os.rename(old_file, new_file)\n",
    "            copy_file = os.path.join(copy_path, newname)\n",
    "            shutil.copyfile(new_file, copy_file)\n",
    "            print(old_file)"
   ]
  },
  {
   "cell_type": "code",
   "execution_count": 12,
   "metadata": {},
   "outputs": [],
   "source": [
    "copy_path_2 = r'D:\\desktop\\交接光碟\\02. monthly report'\n",
    "for path, dirs, file in os.walk('D:/desktop/NTU/LAB report/Report/monthly report'):\n",
    "    for pdf in file:\n",
    "        if pdf.find('.pdf') > 0:\n",
    "            month = re.findall('\\d+', pdf)\n",
    "            new_name = month[0] + '_Monthly report_Yu-Wei Hsu.pdf'\n",
    "            old_file = os.path.join(path, pdf)\n",
    "            copy_file = os.path.join(copy_path_2, new_name)\n",
    "            shutil.copyfile(old_file, copy_file)"
   ]
  }
 ],
 "metadata": {
  "kernelspec": {
   "display_name": "Python 3",
   "language": "python",
   "name": "python3"
  },
  "language_info": {
   "codemirror_mode": {
    "name": "ipython",
    "version": 3
   },
   "file_extension": ".py",
   "mimetype": "text/x-python",
   "name": "python",
   "nbconvert_exporter": "python",
   "pygments_lexer": "ipython3",
   "version": "3.7.0"
  }
 },
 "nbformat": 4,
 "nbformat_minor": 2
}
