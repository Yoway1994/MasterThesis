{
 "cells": [
  {
   "cell_type": "markdown",
   "metadata": {},
   "source": []
  },
  {
   "cell_type": "code",
   "execution_count": 2,
   "metadata": {},
   "outputs": [],
   "source": [
    "import os\n",
    "import pandas as pd\n",
    "path = r'D:\\Desktop\\樣本資料\\裸光纖量測資料'\n",
    "os.chdir(path)\n",
    "data = os.listdir()[:14]\n",
    "dic = {}\n",
    "fiber_list = []\n",
    "for i, fiber in enumerate(data):\n",
    "    data_f = pd.read_excel(fiber)\n",
    "    dic[fiber] = data_f\n",
    "    fiber_list.append(fiber)"
   ]
  },
  {
   "cell_type": "code",
   "execution_count": 3,
   "metadata": {},
   "outputs": [
    {
     "name": "stdout",
     "output_type": "stream",
     "text": [
      "['130321-1a.xlsx', '130422-0.xlsx', '130423-0.xlsx', '130704-0.xlsx', '130704-2.xlsx', '140422-1.xlsx', '140422-2.xlsx', '140423-2.xlsx', '140425-0.xlsx', '140521-1.xlsx', '140522-2.xlsx', '140523-1.xlsx', '140523-2.xlsx', '150425-2.xlsx']\n"
     ]
    }
   ],
   "source": [
    "print(fiber_list)"
   ]
  },
  {
   "cell_type": "code",
   "execution_count": 20,
   "metadata": {},
   "outputs": [],
   "source": [
    "a = dic['130321-1a.xlsx']"
   ]
  }
 ],
 "metadata": {
  "kernelspec": {
   "display_name": "Python 3",
   "language": "python",
   "name": "python3"
  },
  "language_info": {
   "codemirror_mode": {
    "name": "ipython",
    "version": 3
   },
   "file_extension": ".py",
   "mimetype": "text/x-python",
   "name": "python",
   "nbconvert_exporter": "python",
   "pygments_lexer": "ipython3",
   "version": "3.7.0"
  }
 },
 "nbformat": 4,
 "nbformat_minor": 2
}
