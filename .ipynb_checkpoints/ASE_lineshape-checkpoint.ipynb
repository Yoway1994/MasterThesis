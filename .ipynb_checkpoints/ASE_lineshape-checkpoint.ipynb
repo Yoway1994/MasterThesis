{
 "cells": [
  {
   "cell_type": "code",
   "execution_count": 1,
   "metadata": {},
   "outputs": [],
   "source": [
    "import pandas as pd\n",
    "import numpy as np\n",
    "import matplotlib.pyplot as plt\n",
    "import os\n",
    "\n",
    "path = r'D:\\desktop\\ASE_lineshape\\190313'\n",
    "os.chdir(path)\n",
    "file = os.listdir()\n",
    "OSA = pd.read_csv(file[2])[26:]\n",
    "OSA.columns = ['W', 'V', 'C']\n",
    "OSA = pd.DataFrame(OSA, dtype = np.float)\n",
    "value = OSA['V']\n",
    "value = value / 1.5e-05 \n",
    "value = value.ewm(20).mean() - 0.03\n",
    "\n",
    "\n",
    "x = np.linspace(1100, 1700, 601)\n",
    "lambda_c = 1440\n",
    "K_e = 0.118\n",
    "intensity = (x**(-3))*np.exp(-((x-lambda_c)/(K_e*x))**2)\n",
    "sigma_e = (x**2)*np.exp(-((x-lambda_c)/(K_e*x))**2)\n",
    "plt.plot(x, intensity/np.max(intensity), 'blue', linestyle = '--')\n",
    "plt.plot(x, sigma_e/np.max(sigma_e), 'red', linestyle = '--')\n",
    "plt.plot(OSA['W'], value, 'black')\n",
    "plt.ylim((0,1.2))\n",
    "ax = plt.gca()\n",
    "sp = ['right', 'left', 'top', 'bottom']\n",
    "for i in sp:\n",
    "    ax.spines[i].set_color('black')\n",
    "    ax.spines[i].set_linewidth(2)\n",
    "ax.tick_params(axis = \"y\", direction = \"in\")\n",
    "ax.tick_params(axis = \"x\", direction = \"in\")\n",
    "plt.xlabel('Wavelength')\n",
    "plt.ylabel('Normalized')\n",
    "plt.legend(loc = 'best', labels = ['I(λ) fitting', 'σ(λ) fitting', 'measure'])\n",
    "plt.show()"
   ]
  },
  {
   "cell_type": "code",
   "execution_count": 100,
   "metadata": {},
   "outputs": [
    {
     "name": "stdout",
     "output_type": "stream",
     "text": [
      "188\n",
      "1288.0\n",
      "459\n",
      "1559.0\n",
      "460\n",
      "1560.0\n"
     ]
    }
   ],
   "source": [
    "a = sigma_e/np.max(sigma_e)\n",
    "b = intensity/np.max(intensity)\n",
    "for i, v in enumerate(b):\n",
    "    if v <= 0.503 and v >= 0.497:\n",
    "        print(i)\n",
    "        print(x[i])"
   ]
  }
 ],
 "metadata": {
  "kernelspec": {
   "display_name": "Python 3",
   "language": "python",
   "name": "python3"
  },
  "language_info": {
   "codemirror_mode": {
    "name": "ipython",
    "version": 3
   },
   "file_extension": ".py",
   "mimetype": "text/x-python",
   "name": "python",
   "nbconvert_exporter": "python",
   "pygments_lexer": "ipython3",
   "version": "3.7.0"
  }
 },
 "nbformat": 4,
 "nbformat_minor": 2
}
