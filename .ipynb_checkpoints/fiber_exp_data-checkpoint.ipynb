{
 "cells": [
  {
   "cell_type": "markdown",
   "metadata": {},
   "source": []
  },
  {
   "cell_type": "code",
   "execution_count": 32,
   "metadata": {},
   "outputs": [],
   "source": [
    "import os\n",
    "import pandas as pd\n",
    "path = r'D:\\Desktop\\樣本資料\\裸光纖量測資料'\n",
    "os.chdir(path)\n",
    "data = os.listdir()[:14]\n",
    "dic = {}\n",
    "fiber_list = []\n",
    "for i, fiber in enumerate(data):\n",
    "    data_f = pd.read_excel(fiber)\n",
    "    dic[fiber] = data_f\n",
    "    fiber_list.append(fiber)"
   ]
  },
  {
   "cell_type": "code",
   "execution_count": 33,
   "metadata": {},
   "outputs": [
    {
     "name": "stdout",
     "output_type": "stream",
     "text": [
      "['130321-1a.xlsx', '130422-0.xlsx', '130423-0.xlsx', '130704-0.xlsx', '130704-2.xlsx', '140422-1.xlsx', '140422-2.xlsx', '140423-2.xlsx', '140425-0.xlsx', '140521-1.xlsx', '140522-2.xlsx', '140523-1.xlsx', '140523-2.xlsx', '150425-2.xlsx']\n"
     ]
    }
   ],
   "source": [
    "print(fiber_list)"
   ]
  },
  {
   "cell_type": "code",
   "execution_count": 34,
   "metadata": {},
   "outputs": [
    {
     "name": "stdout",
     "output_type": "stream",
     "text": [
      "       ASE  ResPump\n",
      "50    92.3      4.5\n",
      "100  164.0     11.7\n",
      "150  227.0     21.0\n",
      "200  275.7     31.0\n",
      "250  312.0     41.0\n",
      "300  338.0     49.2\n",
      "350  361.0     57.4\n",
      "400  383.0     68.0\n",
      "450  397.0     76.0\n",
      "500  413.0     85.0\n",
      "550  423.0     96.0\n",
      "600  435.0    106.0\n",
      "650  448.0    112.0\n",
      "700  456.0    120.0\n"
     ]
    }
   ],
   "source": []
  }
 ],
 "metadata": {
  "kernelspec": {
   "display_name": "Python 3",
   "language": "python",
   "name": "python3"
  },
  "language_info": {
   "codemirror_mode": {
    "name": "ipython",
    "version": 3
   },
   "file_extension": ".py",
   "mimetype": "text/x-python",
   "name": "python",
   "nbconvert_exporter": "python",
   "pygments_lexer": "ipython3",
   "version": "3.7.0"
  }
 },
 "nbformat": 4,
 "nbformat_minor": 2
}
