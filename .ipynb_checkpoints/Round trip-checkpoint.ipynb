{
 "cells": [
  {
   "cell_type": "code",
   "execution_count": 1,
   "metadata": {},
   "outputs": [],
   "source": [
    "import os\n",
    "import pandas as pd\n",
    "import numpy as np\n",
    "import matplotlib.pyplot as plt\n",
    "\n",
    "os.chdir('D:\\desktop\\碩士論文\\RT_sim')\n",
    "file = os.listdir()\n",
    "RT1 = pd.read_csv(file[0])\n",
    "RT2 = pd.read_csv(file[1])\n",
    "\n",
    "x = range(1998)\n",
    "y = np.ones(len(x))* 0.5\n",
    "plt.plot(x, RT2['sg'][2:], 'r--', label = 'high concentration')\n",
    "plt.plot(x, RT1['sg'][2:], 'b-', label = 'normal')\n",
    "plt.plot(x, y, 'k-.', label = 'round-trip loss')\n",
    "plt.xlim(-50, 1500)\n",
    "ax = plt.gca()\n",
    "sp = ['right', 'left', 'top', 'bottom']\n",
    "for i in sp:\n",
    "    ax.spines[i].set_color('black')\n",
    "    ax.spines[i].set_linewidth(2)\n",
    "ax.tick_params(axis = \"y\", direction = \"in\")\n",
    "ax.tick_params(axis = \"x\", direction = \"in\")\n",
    "plt.xlabel('Round-trip times', fontsize = 14)\n",
    "plt.ylabel('Gain (dB)', fontsize = 14)\n",
    "plt.legend(loc = 'best')\n",
    "plt.show()"
   ]
  }
 ],
 "metadata": {
  "kernelspec": {
   "display_name": "Python 3",
   "language": "python",
   "name": "python3"
  },
  "language_info": {
   "codemirror_mode": {
    "name": "ipython",
    "version": 3
   },
   "file_extension": ".py",
   "mimetype": "text/x-python",
   "name": "python",
   "nbconvert_exporter": "python",
   "pygments_lexer": "ipython3",
   "version": "3.7.0"
  }
 },
 "nbformat": 4,
 "nbformat_minor": 2
}
