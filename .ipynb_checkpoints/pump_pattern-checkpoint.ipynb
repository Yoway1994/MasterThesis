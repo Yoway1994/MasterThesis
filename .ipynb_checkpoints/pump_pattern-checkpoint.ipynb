{
 "cells": [
  {
   "cell_type": "code",
   "execution_count": 3,
   "metadata": {},
   "outputs": [],
   "source": [
    "import os \n",
    "import pandas as pd\n",
    "import matplotlib.pyplot as plt"
   ]
  },
  {
   "cell_type": "code",
   "execution_count": 14,
   "metadata": {},
   "outputs": [
    {
     "data": {
      "text/plain": [
       "['1.jpg',\n",
       " '13282576-2019-02-18-151101.raw',\n",
       " '13282576-2019-02-20-112657.raw',\n",
       " '1Values.csv',\n",
       " '2Values.csv',\n",
       " 'couple.jpg',\n",
       " '新增 Microsoft Excel 工作表.xlsx']"
      ]
     },
     "execution_count": 14,
     "metadata": {},
     "output_type": "execute_result"
    }
   ],
   "source": [
    "path = r'D:\\Desktop\\pump'\n",
    "os.chdir(path)\n",
    "os.listdir()"
   ]
  },
  {
   "cell_type": "code",
   "execution_count": 19,
   "metadata": {},
   "outputs": [
    {
     "data": {
      "text/plain": [
       "<bound method DataFrame.info of            X0      Y0       X1      Y1\n",
       "0        0.00  23.000    0.000  17.747\n",
       "1        3.75  23.000    5.683  17.834\n",
       "2        7.50  23.000   11.366  17.923\n",
       "3       11.25  23.000   17.050  18.013\n",
       "4       15.00  23.000   22.733  18.103\n",
       "5       18.75  23.000   28.416  18.195\n",
       "6       22.50  23.000   34.099  18.288\n",
       "7       26.25  23.000   39.782  18.382\n",
       "8       30.00  23.000   45.465  18.477\n",
       "9       33.75  23.000   51.149  18.573\n",
       "10      37.50  23.000   56.832  18.671\n",
       "11      41.25  23.000   62.515  18.769\n",
       "12      45.00  23.126   68.198  18.869\n",
       "13      48.75  23.886   73.881  18.969\n",
       "14      52.50  24.000   79.565  19.071\n",
       "15      56.25  24.000   85.248  19.174\n",
       "16      60.00  24.000   90.931  19.279\n",
       "17      63.75  24.000   96.614  19.384\n",
       "18      67.50  24.000  102.297  19.491\n",
       "19      71.25  24.185  107.980  19.599\n",
       "20      75.00  24.984  113.664  19.708\n",
       "21      78.75  25.000  119.347  19.818\n",
       "22      82.50  25.000  125.030  19.930\n",
       "23      86.25  25.382  130.713  20.042\n",
       "24      90.00  26.000  136.396  20.157\n",
       "25      93.75  26.000  142.080  20.272\n",
       "26      97.50  26.000  147.763  20.389\n",
       "27     101.25  26.000  153.446  20.507\n",
       "28     105.00  26.000  159.129  20.626\n",
       "29     108.75  26.000  164.812  20.747\n",
       "...       ...     ...      ...     ...\n",
       "1485  5568.75  16.000      NaN     NaN\n",
       "1486  5572.50  16.000      NaN     NaN\n",
       "1487  5576.25  16.000      NaN     NaN\n",
       "1488  5580.00  15.489      NaN     NaN\n",
       "1489  5583.75  15.000      NaN     NaN\n",
       "1490  5587.50  15.000      NaN     NaN\n",
       "1491  5591.25  15.000      NaN     NaN\n",
       "1492  5595.00  15.000      NaN     NaN\n",
       "1493  5598.75  14.918      NaN     NaN\n",
       "1494  5602.50  14.021      NaN     NaN\n",
       "1495  5606.25  14.000      NaN     NaN\n",
       "1496  5610.00  14.070      NaN     NaN\n",
       "1497  5613.75  14.000      NaN     NaN\n",
       "1498  5617.50  14.383      NaN     NaN\n",
       "1499  5621.25  14.984      NaN     NaN\n",
       "1500  5625.00  15.000      NaN     NaN\n",
       "1501  5628.75  15.000      NaN     NaN\n",
       "1502  5632.50  15.000      NaN     NaN\n",
       "1503  5636.25  15.000      NaN     NaN\n",
       "1504  5640.00  15.000      NaN     NaN\n",
       "1505  5643.75  15.000      NaN     NaN\n",
       "1506  5647.50  14.318      NaN     NaN\n",
       "1507  5651.25  14.000      NaN     NaN\n",
       "1508  5655.00  14.000      NaN     NaN\n",
       "1509  5658.75  14.000      NaN     NaN\n",
       "1510  5662.50  14.000      NaN     NaN\n",
       "1511  5666.25  14.000      NaN     NaN\n",
       "1512  5670.00  14.000      NaN     NaN\n",
       "1513  5673.75  14.000      NaN     NaN\n",
       "1514  5677.50  14.000      NaN     NaN\n",
       "\n",
       "[1515 rows x 4 columns]>"
      ]
     },
     "execution_count": 19,
     "metadata": {},
     "output_type": "execute_result"
    }
   ],
   "source": [
    "df = pd.read_csv('1Values.csv')\n",
    "df.info"
   ]
  },
  {
   "cell_type": "code",
   "execution_count": 21,
   "metadata": {},
   "outputs": [
    {
     "data": {
      "image/png": "[encoded data removed]",
      "text/plain": [
       "<Figure size 432x288 with 1 Axes>"
      ]
     },
     "metadata": {
      "needs_background": "light"
     },
     "output_type": "display_data"
    }
   ],
   "source": [
    "plt.plot(df['X0'], df['Y0'])\n",
    "plt.plot(df['X1'], df['Y1'])\n",
    "plt.show()"
   ]
  }
 ],
 "metadata": {
  "kernelspec": {
   "display_name": "Python 3",
   "language": "python",
   "name": "python3"
  },
  "language_info": {
   "codemirror_mode": {
    "name": "ipython",
    "version": 3
   },
   "file_extension": ".py",
   "mimetype": "text/x-python",
   "name": "python",
   "nbconvert_exporter": "python",
   "pygments_lexer": "ipython3",
   "version": "3.7.0"
  }
 },
 "nbformat": 4,
 "nbformat_minor": 2
}
