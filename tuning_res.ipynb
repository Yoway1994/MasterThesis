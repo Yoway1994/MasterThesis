{
 "cells": [
  {
   "cell_type": "code",
   "execution_count": 1,
   "metadata": {},
   "outputs": [
    {
     "name": "stdout",
     "output_type": "stream",
     "text": [
      "0 1388.0\n",
      "2 1391.6\n",
      "4 1393.2\n",
      "7 1396.8\n",
      "8 1398.0\n",
      "10 1401.6\n",
      "11 1407.2\n",
      "13 1409.2\n",
      "14 1411.2\n",
      "17 1414.8\n",
      "19 1417.6\n",
      "22 1421.6\n",
      "24 1424.4\n",
      "25 1428.8\n",
      "27 1430.4\n",
      "28 1436.0\n",
      "31 1438.4\n",
      "33 1440.0\n",
      "34 1443.6\n",
      "36 1445.6\n",
      "39 1448.8\n",
      "41 1450.8\n",
      "43 1452.4\n",
      "45 1455.6\n",
      "47 1460.0\n",
      "50 1463.2\n",
      "51 1467.6\n",
      "54 1469.6\n",
      "57 1472.8\n"
     ]
    },
    {
     "data": {
      "text/plain": [
       "<Figure size 640x480 with 1 Axes>"
      ]
     },
     "metadata": {},
     "output_type": "display_data"
    }
   ],
   "source": [
    "import numpy as np\n",
    "import pandas as pd\n",
    "import os\n",
    "import matplotlib.pyplot as plt\n",
    "\n",
    "folder = ['200mW', '400mW', '800mW', '1800mW']\n",
    "\n",
    "x = np.linspace(1350, 1550)\n",
    "def nor(v):\n",
    "    return v/np.max(v)\n",
    "\n",
    "def get_csv(f):\n",
    "    path = r'D:\\desktop\\NTU/樣本資料\\140523-2\\tuning\\%s' % f\n",
    "    os.chdir(path)\n",
    "    data = os.listdir()\n",
    "    sp = {}\n",
    "    wavelength = []\n",
    "    for file in data:\n",
    "        a = pd.read_csv(file)[26:].drop('Unnamed: 2', axis = 1)\n",
    "        a.columns = ['w', 'v']\n",
    "        a = pd.DataFrame(a, dtype = np.float64)\n",
    "        pk = a['v'].idxmax() # peak所在index\n",
    "        sp[a['w'][pk]] = a # dic\n",
    "        wavelength.append(a['w'][pk])\n",
    "    wavelength.sort()\n",
    "    return sp, wavelength\n",
    "t = [0, 2, 4, 7, 8, 10, 11, 13, 14, 17, 19, 22, 24, 25, 27, 28, 31, 33, \n",
    "     34, 36, 39, 41, 43, 45, 47, 50, 51, 54, 57]\n",
    "d, w = get_csv('1800mW')\n",
    "for e, i in enumerate(w):\n",
    "    if e in t:\n",
    "        print(e, i)\n",
    "        vv = nor(d[i]['v'])\n",
    "        plt.plot(d[i]['w'], vv)\n",
    "        test = pd.concat([d[i]['w'], vv], axis = 1)\n",
    "        test.columns = ['Wavlength (nm)', 'Spectral density (n.u.)']\n",
    "        test.to_csv('%s.csv' % i)\n",
    "plt.xlim(1380, 1480)\n",
    "plt.ylim(-0.02)\n",
    "ax = plt.gca()\n",
    "sp = ['right', 'left', 'top', 'bottom']\n",
    "for i in sp:\n",
    "    ax.spines[i].set_color('black')\n",
    "    ax.spines[i].set_linewidth(2)\n",
    "ax.tick_params(axis = \"y\", direction = \"in\")\n",
    "ax.tick_params(axis = \"x\", direction = \"in\")\n",
    "plt.xlabel('Wavelength (nm)', fontsize = 14)\n",
    "plt.ylabel('Spectral density (n.u.)', fontsize = 14)\n",
    "\n",
    "plt.show()"
   ]
  },
  {
   "cell_type": "code",
   "execution_count": null,
   "metadata": {},
   "outputs": [],
   "source": []
  }
 ],
 "metadata": {
  "kernelspec": {
   "display_name": "Python 3",
   "language": "python",
   "name": "python3"
  },
  "language_info": {
   "codemirror_mode": {
    "name": "ipython",
    "version": 3
   },
   "file_extension": ".py",
   "mimetype": "text/x-python",
   "name": "python",
   "nbconvert_exporter": "python",
   "pygments_lexer": "ipython3",
   "version": "3.7.0"
  }
 },
 "nbformat": 4,
 "nbformat_minor": 2
}
