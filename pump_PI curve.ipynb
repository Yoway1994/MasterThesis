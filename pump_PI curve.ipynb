{
 "cells": [
  {
   "cell_type": "markdown",
   "metadata": {},
   "source": [
    "PI curve"
   ]
  },
  {
   "cell_type": "code",
   "execution_count": 2,
   "metadata": {},
   "outputs": [
    {
     "data": {
      "text/plain": [
       "['1.jpg',\n",
       " '13282576-2019-02-18-151101.raw',\n",
       " '13282576-2019-02-20-112657.raw',\n",
       " '1Values.csv',\n",
       " '2Values.csv',\n",
       " 'couple.jpg',\n",
       " 'laser-P-I-curve.txt',\n",
       " '新增 Microsoft Excel 工作表.xlsx']"
      ]
     },
     "execution_count": 2,
     "metadata": {},
     "output_type": "execute_result"
    }
   ],
   "source": [
    "import os\n",
    "import numpy as np\n",
    "path = r'D:\\Desktop\\pump'\n",
    "os.chdir(path)\n",
    "os.listdir()"
   ]
  },
  {
   "cell_type": "code",
   "execution_count": 3,
   "metadata": {},
   "outputs": [
    {
     "name": "stdout",
     "output_type": "stream",
     "text": [
      "['100', '9.3', '150', '38.4', '200', '66', '250', '90.6', '300', '118', '350', '146', '400', '174', '450', '201', '500', '229', '550', '260', '600', '287', '650', '317', '700', '346', '750', '376', '800', '409', '850', '436', '900', '465', '950', '491', '1000', '516', '1050', '539', '1100', '563', '1150', '583']\n"
     ]
    }
   ],
   "source": [
    "file_name = 'laser-P-I-curve.txt' \n",
    "with open(file_name, 'r') as txt:\n",
    "    data = txt.read()\n",
    "    exp = data.split()[4:]\n",
    "    print(exp)"
   ]
  },
  {
   "cell_type": "code",
   "execution_count": 4,
   "metadata": {},
   "outputs": [],
   "source": [
    "import matplotlib.pyplot as plt\n",
    "I = []\n",
    "P = []\n",
    "for i, data in enumerate(exp):\n",
    "    if i % 2 == 0:\n",
    "        I.append(float(data))\n",
    "    else:\n",
    "        P.append(float(data))\n"
   ]
  },
  {
   "cell_type": "code",
   "execution_count": 5,
   "metadata": {},
   "outputs": [
    {
     "data": {
      "image/png": "[encoded data removed]",
      "text/plain": [
       "<Figure size 432x288 with 1 Axes>"
      ]
     },
     "metadata": {
      "needs_background": "light"
     },
     "output_type": "display_data"
    }
   ],
   "source": [
    "import matplotlib.ticker as ticker\n",
    "import matplotlib\n",
    "plt.plot(I, P, color = 'black', marker = 's', linestyle = '--')\n",
    "ax = plt.gca()\n",
    "sp = ['right', 'left', 'top', 'bottom']\n",
    "for i in sp:\n",
    "    ax.spines[i].set_color('black')\n",
    "    ax.spines[i].set_linewidth(2)\n",
    "ax.tick_params(axis = \"y\", direction = \"in\")\n",
    "ax.tick_params(axis = \"x\", direction = \"in\")\n",
    "plt.xlabel('Current(mA)')\n",
    "plt.ylabel('LD output power(mW)')\n",
    "plt.show()"
   ]
  }
 ],
 "metadata": {
  "kernelspec": {
   "display_name": "Python 3",
   "language": "python",
   "name": "python3"
  },
  "language_info": {
   "codemirror_mode": {
    "name": "ipython",
    "version": 3
   },
   "file_extension": ".py",
   "mimetype": "text/x-python",
   "name": "python",
   "nbconvert_exporter": "python",
   "pygments_lexer": "ipython3",
   "version": "3.7.0"
  }
 },
 "nbformat": 4,
 "nbformat_minor": 2
}
