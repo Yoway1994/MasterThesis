{
 "cells": [
  {
   "cell_type": "markdown",
   "metadata": {},
   "source": [
    "# Runge-Kutta\n",
    "以Euler method為基礎，使得數值近似更快更精準\n",
    "\n",
    "此方法內建在scipy的 solve_ivp之下，支援多個initial value以一維矩陣方式輸入\n",
    "\n"
   ]
  },
  {
   "cell_type": "code",
   "execution_count": null,
   "metadata": {},
   "outputs": [],
   "source": [
    "from scipy.integrate import solve_ivp\n",
    "from numpy import exp\n",
    "import numpy as np\n",
    "import matplotlib.pyplot as plt"
   ]
  },
  {
   "cell_type": "code",
   "execution_count": 42,
   "metadata": {
    "scrolled": true
   },
   "outputs": [],
   "source": [
    "def dydx(x, y):\n",
    "    return y\n",
    "x = np.linspace(0, 10, 11)\n",
    "sol = solve_ivp(dydx, [0, 10], [1, 2, 3], t_eval = x)"
   ]
  },
  {
   "cell_type": "code",
   "execution_count": 41,
   "metadata": {},
   "outputs": [],
   "source": [
    "def RK45(x0, y0, dfdx, d):\n",
    "    k1 = dfdx(x0, y0)\n",
    "    x1 = x0 + d/2\n",
    "    y1 = y0 + k1*d/2\n",
    "    \n",
    "    k2 = dfdx(x1, y1)\n",
    "    y2 = y0 + k2*d/2\n",
    "    x2 = x0 + d/2\n",
    "    \n",
    "    k3 = dfdx(x2, y2)\n",
    "    y3 = y0 + k3* d\n",
    "    x3 = x0 + d\n",
    "    \n",
    "    k4 = dfdx(x3, y3)\n",
    "    \n",
    "    k = (k1 + 2*k2 + 2*k3 + k4)/6\n",
    "    y = y0 + k*d\n",
    "    x = x0 + d\n",
    "    return x, y"
   ]
  },
  {
   "cell_type": "code",
   "execution_count": 54,
   "metadata": {},
   "outputs": [
    {
     "data": {
      "image/png": "[encoded data removed]",
      "text/plain": [
       "<Figure size 432x288 with 1 Axes>"
      ]
     },
     "metadata": {
      "needs_background": "light"
     },
     "output_type": "display_data"
    }
   ],
   "source": [
    "x_t = []\n",
    "y_t = []\n",
    "for i in range(100):\n",
    "    if i == 0:\n",
    "        x_t.append(RK45(0, 1, dydx, 0.1)[0])\n",
    "        y_t.append(RK45(0, 1, dydx, 0.1)[1])\n",
    "        x_p, y_p = RK45(0, 1, dydx, 0.1)\n",
    "    else:\n",
    "        x_t.append(RK45(x_p, y_p, dydx, 0.1)[0])\n",
    "        y_t.append(RK45(x_p, y_p, dydx, 0.1)[1])\n",
    "        x_p, y_p = RK45(x_p, y_p, dydx, 0.1)\n",
    "\n",
    "\n",
    "#plt.plot(sol.t, sol.y[0])\n",
    "#plt.plot(x, exp(x))\n",
    "plt.plot(x_t, y_t)\n",
    "plt.show()"
   ]
  }
 ],
 "metadata": {
  "kernelspec": {
   "display_name": "Python 3",
   "language": "python",
   "name": "python3"
  },
  "language_info": {
   "codemirror_mode": {
    "name": "ipython",
    "version": 3
   },
   "file_extension": ".py",
   "mimetype": "text/x-python",
   "name": "python",
   "nbconvert_exporter": "python",
   "pygments_lexer": "ipython3",
   "version": "3.7.0"
  }
 },
 "nbformat": 4,
 "nbformat_minor": 2
}
