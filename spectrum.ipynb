{
 "cells": [
  {
   "cell_type": "code",
   "execution_count": 4,
   "metadata": {},
   "outputs": [
    {
     "name": "stdout",
     "output_type": "stream",
     "text": [
      "WaveData20190415_017.csv\n"
     ]
    }
   ],
   "source": [
    "import os\n",
    "path = r'D:\\desktop\\樣本資料\\140523-2\\0415 tunable laser'\n",
    "os.chdir(path)\n",
    "file = os.listdir()[-1]\n",
    "print(file)"
   ]
  },
  {
   "cell_type": "code",
   "execution_count": 5,
   "metadata": {},
   "outputs": [
    {
     "name": "stderr",
     "output_type": "stream",
     "text": [
      "C:\\Users\\Lomny\\AppData\\Local\\Programs\\Python\\Python37-32\\lib\\site-packages\\ipykernel_launcher.py:6: FutureWarning: 'argmax' is deprecated, use 'idxmax' instead. The behavior of 'argmax'\n",
      "will be corrected to return the positional maximum in the future.\n",
      "Use 'series.values.argmax' to get the position of the maximum now.\n",
      "  \n"
     ]
    },
    {
     "data": {
      "text/plain": [
       "1446.7"
      ]
     },
     "execution_count": 5,
     "metadata": {},
     "output_type": "execute_result"
    }
   ],
   "source": [
    "import pandas as pd\n",
    "import numpy as np\n",
    "df = pd.read_csv(file)[26:].drop('Unnamed: 2', axis = 1)\n",
    "df = pd.DataFrame(df, dtype = np.float64)\n",
    "df.columns = ['w', 'v']\n",
    "wave = df['v'].argmax()\n",
    "df['w'][wave]"
   ]
  },
  {
   "cell_type": "code",
   "execution_count": 6,
   "metadata": {
    "scrolled": true
   },
   "outputs": [
    {
     "name": "stderr",
     "output_type": "stream",
     "text": [
      "C:\\Users\\Lomny\\AppData\\Local\\Programs\\Python\\Python37-32\\lib\\site-packages\\ipykernel_launcher.py:3: RuntimeWarning: divide by zero encountered in log10\n",
      "  This is separate from the ipykernel package so we can avoid doing imports until\n"
     ]
    },
    {
     "data": {
      "image/png": "[encoded data removed]",
      "text/plain": [
       "<Figure size 432x288 with 1 Axes>"
      ]
     },
     "metadata": {
      "needs_background": "light"
     },
     "output_type": "display_data"
    }
   ],
   "source": [
    "import matplotlib.pyplot as plt\n",
    "#v = df['v']\n",
    "v = 10*np.log10(abs(df['v']))\n",
    "#v = v + -np.min(v)\n",
    "ax = plt.gca()\n",
    "sp = ['right', 'left', 'top', 'bottom']\n",
    "for i in sp:\n",
    "    ax.spines[i].set_color('black')\n",
    "    ax.spines[i].set_linewidth(2)\n",
    "ax.tick_params(axis = \"y\", direction = \"in\")\n",
    "ax.tick_params(axis = \"x\", direction = \"in\")\n",
    "plt.xlabel('wavelength (nm)', fontsize = 14)\n",
    "plt.ylabel('spectral density (dBm)', fontsize = 14)\n",
    "plt.ylim([-75, 0])\n",
    "plt.xlim([1350, 1550])\n",
    "plt.plot(df['w'], v, color = 'red')\n",
    "plt.show()"
   ]
  }
 ],
 "metadata": {
  "kernelspec": {
   "display_name": "Python 3",
   "language": "python",
   "name": "python3"
  },
  "language_info": {
   "codemirror_mode": {
    "name": "ipython",
    "version": 3
   },
   "file_extension": ".py",
   "mimetype": "text/x-python",
   "name": "python",
   "nbconvert_exporter": "python",
   "pygments_lexer": "ipython3",
   "version": "3.7.0"
  }
 },
 "nbformat": 4,
 "nbformat_minor": 2
}
